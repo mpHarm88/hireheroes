{
 "cells": [
  {
   "cell_type": "code",
   "execution_count": 6,
   "metadata": {},
   "outputs": [],
   "source": [
    "import pandas as pd\n",
    "import numpy as np\n",
    "import sqlite3\n",
    "from dotenv import load_dotenv\n",
    "import os\n",
    "import psycopg2\n",
    "from psycopg2 import extras\n",
    "load_dotenv();"
   ]
  },
  {
   "cell_type": "markdown",
   "metadata": {},
   "source": [
    "### Load Data"
   ]
  },
  {
   "cell_type": "code",
   "execution_count": 7,
   "metadata": {},
   "outputs": [
    {
     "name": "stdout",
     "output_type": "stream",
     "text": [
      "---Dataframes Shapes---\n",
      "campaign Shape: (1386, 103)\n",
      "profile_creation Shape: (778, 5)\n",
      "job_seeker Shape: (4342, 5)\n",
      "job_board Shape: (521, 8)\n",
      "feedback Shape: (15807, 70)\n",
      "account Shape: (16858, 168)\n",
      "sf_case Shape: (14845, 56)\n",
      "info_c Shape: (30754, 34)\n",
      "opp Shape: (10849, 130)\n",
      "record Shape: (80, 13)\n"
     ]
    }
   ],
   "source": [
    "campaign = pd.read_csv(\"../data/Campaign.csv\", encoding=\"latin-1\")\n",
    "profile_creation = pd.read_csv(\"../data/EPO_Teradata_Employer_Profile_Creation_Report.csv\")\n",
    "job_seeker = pd.read_csv(\"../data/EPO_Teradata_Job Seeker_Profile_Creation_Report.csv\")\n",
    "job_board = pd.read_csv(\"../data/EPO_Teradata_Job_Board_Sales_Report.csv\")\n",
    "feedback = pd.read_csv(\"../data/Feedback__c.csv\", encoding=\"latin-1\", low_memory=False)\n",
    "account = pd.read_csv(\"../data/SalesForce_Account.csv\", encoding=\"latin-1\", low_memory=False)\n",
    "sf_case = pd.read_csv(\"../data/SalesForce_Case.csv\", encoding=\"latin-1\", low_memory=False)\n",
    "info_c = pd.read_csv(\"../data/SalesForce_Hire_Information__c.csv\", encoding=\"latin-1\")\n",
    "opp = pd.read_csv(\"../data/SalesForce_Opportunity.csv\", low_memory=False)\n",
    "record = pd.read_csv(\"../data/SalesForce_RecordType.csv\")\n",
    "\n",
    "#no columns to pull data from\n",
    "#sales_2018 = pd.read_csv(\"../data/SalesForce_2018Activities.csv\")\n",
    "#sales_force = pd.read_csv(\"../data/SalesForce_Contact.csv\")\n",
    "#email = pd.read_csv(\"../data/vr__VR_Email_History_Contact__c.csv\")\n",
    "\n",
    "ls = [campaign, profile_creation, job_seeker, job_board, feedback, account, sf_case, \n",
    "      info_c, opp, record]\n",
    "ls_name = [\"campaign\", \"profile_creation\", \"job_seeker\", \"job_board\", \"feedback\", \"account\", \"sf_case\", \"info_c\", \"opp\", \"record\"]\n",
    "\n",
    "# Lower and replace spaces with \"_\" in column names\n",
    "for x in ls:\n",
    "    x.columns = map(str.lower, x.columns.str.replace(\" \", \"_\").str.replace(\"?\", \"\"))\n",
    "\n",
    "df_dict = dict(zip(ls_name, ls))\n",
    "print(\"---Dataframes Shapes---\")\n",
    "for x in range(len(df_dict)):\n",
    "    print(f\"{list(df_dict.keys())[x]} Shape: {list(df_dict.values())[x].shape}\")  "
   ]
  },
  {
   "cell_type": "code",
   "execution_count": 8,
   "metadata": {},
   "outputs": [],
   "source": [
    "def df_sql(df_ls,name, conn):\n",
    "    \"\"\"\n",
    "    Load all data into a sqlite3 DB.\n",
    "    \n",
    "    df_ls: YOu list of dataframes\n",
    "    name: The list containing the names of your dataframes\n",
    "    conn: The SQLite3 connection\n",
    "    \"\"\"\n",
    "    \n",
    "    conn = conn\n",
    "    \n",
    "    # Load all dataframes into a single SQLite3 database\n",
    "    for x in range(len(df_ls)):\n",
    "        df_ls[x].to_sql(f\"{name[x]}\", conn, index=False)\n",
    "        \n",
    "    return   \n",
    "\n",
    "def create_table(conn):\n",
    "    \"\"\"\n",
    "    Returns a list a create table statements as strings\n",
    "    \n",
    "    conn: The SQLite3 connection\n",
    "    \"\"\"\n",
    "    \n",
    "    curs = conn.cursor()\n",
    "    \n",
    "    # Fetch all create table statements from the SQLite3 DB\n",
    "    query = curs.execute(\"SELECT * FROM sqlite_master WHERE type='table'\").fetchall()\n",
    "    table_ls = []\n",
    "    \n",
    "    # Index into the query and format string to get rid of uneeded characters\n",
    "    for x in range(len(query)):\n",
    "        table_ls.append(query[x][4].replace(\"\\n\", \"\") + \";\")\n",
    "    \n",
    "    return table_ls\n",
    "\n",
    "def insert_pg(conn, name):\n",
    "    \"\"\"\n",
    "    Create and append insert statements to a list\n",
    "    \n",
    "    conn: SQLite3 connection\n",
    "    name: list of dataframe names\n",
    "    \"\"\"\n",
    "    \n",
    "    curs = conn.cursor()\n",
    "    insert_ls = []\n",
    "    \n",
    "    # Iterate through name list of names and query the schema of each table\n",
    "    for x in range(len(name)):\n",
    "        curs.execute(f\"SELECT column_name FROM INFORMATION_SCHEMA.COLUMNS WHERE TABLE_NAME='{name[x]}';\")\n",
    "        # Prime the insert_str to create a proper insert statement\n",
    "        insert_str = f\"INSERT INTO {name[x]} (\"\n",
    "        # Iterate through curs objects and append schema to col_ls\n",
    "        for y in curs:\n",
    "            col_ls = []\n",
    "            col_ls.append(y[0])\n",
    "            # Iterate through col_ls and format string with comma and space\n",
    "            for z in range(len(col_ls)):\n",
    "                insert_str += col_ls[z] + \",\" + \" \"\n",
    "        insert_str = insert_str[:-2] # remove the \",\" and \" \" from the last line\n",
    "        # Add the ending to the string with Psycopg2 formatting\n",
    "        insert_str += \") VALUES %s\"\n",
    "        insert_ls.append(insert_str)\n",
    "        \n",
    "    return insert_ls"
   ]
  },
  {
   "cell_type": "markdown",
   "metadata": {},
   "source": [
    "### SQLite3"
   ]
  },
  {
   "cell_type": "code",
   "execution_count": 4,
   "metadata": {},
   "outputs": [],
   "source": [
    "# Make connection\n",
    "conn = sqlite3.Connection(\"../data/heroes.sqlite3\")\n",
    "\n",
    "# Load the DB\n",
    "df_sql(ls, ls_name, conn)\n",
    "\n",
    "# Extract CREATE TABLE statements and append to list\n",
    "table_ls = create_table(conn)"
   ]
  },
  {
   "cell_type": "markdown",
   "metadata": {},
   "source": [
    "### Psycopg2 and Azure"
   ]
  },
  {
   "cell_type": "code",
   "execution_count": 9,
   "metadata": {},
   "outputs": [
    {
     "name": "stdout",
     "output_type": "stream",
     "text": [
      "---Generating Insert List---\n",
      "---Starting Data Insert---\n",
      "campaign data inserted\n",
      "profile_creation data inserted\n",
      "job_seeker data inserted\n",
      "job_board data inserted\n",
      "feedback data inserted\n",
      "account data inserted\n",
      "sf_case data inserted\n",
      "info_c data inserted\n",
      "opp data inserted\n",
      "record data inserted\n",
      "---Data Insert Finished---\n"
     ]
    }
   ],
   "source": [
    "# Load credentials from .env\n",
    "name = os.getenv(\"AZURE_DB_NAME\")\n",
    "pw = os.getenv(\"AZURE_PASS\")\n",
    "host = os.getenv(\"AZURE_HOST\")\n",
    "user = os.getenv(\"AZURE_USER\")\n",
    "ssl = os.getenv(\"AZURE_SSLMODE\")\n",
    "\n",
    "# Connect\n",
    "conn_string = f\"host={host} user={user} dbname={name} password={pw} sslmode={ssl}\"\n",
    "pg_conn = psycopg2.connect(conn_string)\n",
    "pg_curs = pg_conn.cursor()\n",
    "\n",
    "# Drop and Create tables\n",
    "for x in ls_name:\n",
    "    pg_curs.execute(f\"DROP TABLE IF EXISTS {x};\")\n",
    "    pg_conn.commit()\n",
    "\n",
    "for x in range(len(table_ls)):\n",
    "    pg_curs.execute(table_ls[x])\n",
    "    pg_conn.commit()\n",
    "\n",
    "# Gather insert statements to a list\n",
    "print(\"---Generating Insert List---\")\n",
    "insert_ls = insert_pg(pg_conn, ls_name)\n",
    "\n",
    "# Insert the Data\n",
    "print(\"---Starting Data Insert---\")\n",
    "for x in range(len(ls_name)):\n",
    "    curs = conn.cursor()\n",
    "    data = curs.execute(f\"SELECT * FROM {ls_name[x]}\").fetchall()\n",
    "    query = insert_ls[x]\n",
    "    extras.execute_values(pg_curs, query, data)\n",
    "    pg_conn.commit()\n",
    "    print(f\"{ls_name[x]} data inserted\")\n",
    "print(\"---Data Insert Finished---\")"
   ]
  },
  {
   "cell_type": "code",
   "execution_count": 10,
   "metadata": {},
   "outputs": [
    {
     "name": "stdout",
     "output_type": "stream",
     "text": [
      "---First row from campaign Azure Postgres DB---\n",
      "('7010z000000mBaVAAU', 0, 'O2O Volunteer Program Email', '000000000000000AAA', 'Email', '012380000009wCN', 'Completed', None, None, None, None, None, 0, 0.0, 1, '000000000000000AAA', 0, 0, 1006, 0, 0, 0, 0.0, 0.0, 0, 0, 1006, 0, 0, 0, 0.0, 0.0, 0, 0.0, 0.0, 0.0, '00538000005Ey04AAC', '1/15/2019 14:11', '00538000005Ey04AAC', '1/15/2019 14:11', '00538000005Ey04AAC', '1/15/2019 14:13', None, None, 0, 0.0, 0, 0, 0, None, None, None, None, None, None, None, None, None, None, None, None, None, None, None, None, None, None, None, None, None, None, None, None, None, None, None, None, None, None, None, None, None, None, None, None, None, 0, 0, None, None, '1/15/2019 0:00', 0, 0, None, None, 0.0, 0, 0, None, 0.0, 0.0, None, None) \n",
      "\n",
      "---First row from profile_creation Azure Postgres DB---\n",
      "('4c5dd3d1-9c8c-4203-a179-3a2590f8d596', 'Company 1', '2018-03-28 10:12:14 UTC', 0, None) \n",
      "\n",
      "---First row from job_seeker Azure Postgres DB---\n",
      "('Job Seeker 1', 'Jacksonville', 'Florida', '2018-01-01 00:07:07 UTC', '2018-01-01 00:07:08 UTC') \n",
      "\n",
      "---First row from job_board Azure Postgres DB---\n",
      "(175871, '2018-10-25 20:14:31 UTC', 'Accounts Payable Specialist', 6270590.0, 'Year Long Job Board Posting , Priority Listing, Resume Search Access for Duration of Package', 'Company 1', '$483.75 ', 'PAYITFORWARD') \n",
      "\n",
      "---First row from feedback Azure Postgres DB---\n",
      "('a3M0z0000001JVbEAM', '00538000004gsNsAAI', 0, 13702, '8/5/2018 4:11', '00538000004gsNsAAI', '8/5/2018 4:11', '00538000004gsNsAAI', '8/5/2018 4:11', None, '0033800002o0VcdAAE', None, 'Career Counseling Survey', None, None, None, None, 3.0, '31 - 60 minutes', None, None, 'Yes', None, 'General Job Search;Specific Industry', 5.0, None, 4.0, 5.0, 5.0, None, None, None, None, None, None, None, None, '5003800000y5oVZAAY', None, None, None, None, None, None, None, None, None, None, None, None, None, None, None, None, None, None, None, None, None, None, None, None, None, None, None, None, None, None, None, None) \n",
      "\n",
      "---First row from account Azure Postgres DB---\n",
      "('0010z00001SQFPbAAP', 0, None, None, '012500000000r6J', '000000000000000AAA', 'Georgia', '30004', None, '00538000005EqroAAC', '8/6/2018 14:44', '00538000005EqroAAC', '8/7/2018 3:00', '00538000004gsNsAAI', '8/7/2018 3:00', None, None, None, None, None, None, 'Local', 'Employment', 0.0, None, None, None, None, 0, 0, 0, 0, 0, None, 'Red', None, None, None, None, None, None, None, None, None, None, None, 0, '0030z00002PrXMiAAN', 0, None, None, None, 0.0, 0, 0.0, 0.0, None, None, 0.0, None, 0, None, None, None, None, None, None, 0, 0, 0.0, 0.0, None, None, 'No', None, None, None, None, None, 0, None, 0, None, None, None, None, None, None, None, 0, None, 0, 0.0, None, None, 0.0, 0, 0, 0, 0, None, 0.0, 0, 0.0, None, None, None, None, None, None, 0, None, None, None, None, None, None, None, None, None, None, 1.0, 0, 0, None, None, None, None, None, 141085.0, None, None, None, None, None, None, None, None, None, None, None, None, None, 0.0, None, None, None, None, None, None, 0.0, 0.0, 0.0, 0.0, None, 0.0, 0, 0.0, 0.0, 0.0, None, None, None, None, None, None, None, None) \n",
      "\n",
      "---First row from sf_case Azure Postgres DB---\n",
      "('5000z00001EpXrYAAV', 0, 14477, '0030z00002PrXEhAAN', '0015000000KUwKAAA1', '000000000000000AAA', '01m50000000H2OwAAK', '000000000000000AAA', 'Volunteer Request', '0120z0000005Q4O', 'Completed', 'Mentoring', None, 1.0, 'Non - Urgent', 1, '8/29/2018 12:39', 0, 0, 0, '00538000004kmwWAAQ', 0, 0, '8/14/2018 12:46', '005380000063fCOAAY', '9/15/2018 18:32', '00538000004gsNsAAI', '9/15/2018 18:32', None, '8/14/2018 0:00', None, None, None, None, 0.0, None, None, 0.0, None, None, None, None, None, None, '0033800002kU4A7AAK', 0.0, 0.0, 1.0, None, None, None, None, 'Mock Interview', None, None, None) \n",
      "\n",
      "---First row from info_c Azure Postgres DB---\n",
      "('a5J0z000000NRa9EAG', 0, 31334, '1/15/2019 15:36', '00538000005F2ADAA0', '1/16/2019 13:52', '00550000002dthaAAA', '1/16/2019 13:52', None, '1/15/2019 0:00', '12/24/2018 0:00', '0013800001IWUgRAAX', '0033800002cveGHAAY', 'U.S. Immigration and Customs Enforcement', 'Immigration Services Assistant', 'Professional Services', 'Government and Public Administration', '1185 S Vinnell Way, Boise, ID', '83709', '$50,000 - $59,999', 'Full-Time', 1, 0, 0, 0.0, None, 1, 0, '1/15/2019 0:00', '00538000005F2ADAA0', 1, 1, None, 0.0) \n",
      "\n",
      "---First row from opp Azure Postgres DB---\n",
      "('0060z00001vL8DcAAK', 0, '0013800001E5JgdAAF', '012500000000r6E', 0, 'Closed Won', 11.0, 26.38, 100, 26.38, None, '8/14/2018 0:00', 'Recurring', None, 'Web', 1, 1, 'Closed', 'Closed', '70138000001MCPcAAO', None, None, '00538000004gsNsAAI', '8/14/2018 9:23', '00538000004gsNsAAI', '10/6/2018 6:00', '00538000004gsNsAAI', '10/6/2018 6:00', None, None, 2018, 3, None, None, None, 0, 0.0, 1.0, 'Not Posted', None, 0, 0, 0, None, None, None, None, None, None, None, None, 'Individual Donor', '8/14/2018 0:00', None, None, '0033800002g4oIVAAY', 0.0, 0.0, 1, 26.38, '0033800002g4oIVAAY', None, None, '8/22/2018 0:00', 'Credit Card', 0.0, '70138000001MCPcAAO', None, None, None, None, 0.0, 0.0, None, 'Credit Card', 'Donation', 'US', 'NY', None, None, 25.0, None, '8/14/2018 9:23', None, 13107400.0, '0033800002g4oIVAAY', 'a2438000001ajaKAAQ', 'a25380000013ZgdAAE', 1.38, None, 0.0, None, 26.38, 'Yes', None, 0.0, None, 0.0, None, None, None, None, 1.0, 0.0, 75867.0, 31222.0, None, None, 3004700.0, 'USD', 'success', 0.5, 'USD', 1.38, 0.88, 26.38, 'USD', 25.0, None, 0.0, 25.0, 0.0, 0.0, None, None, None, 1.0, 'Monthly', None, None) \n",
      "\n",
      "---First row from record Azure Postgres DB---\n",
      "('0120z0000005Q4OAAU', 'Volunteer Program Request', None, None, '0190z0000008pB1AAI', 'Case', 1, '00538000004gsNsAAI', '2018-08-08 13:39:34', '00550000001WkUeAAK', '2018-09-16 23:40:47', '2018-09-16 23:40:47', 0) \n",
      "\n"
     ]
    }
   ],
   "source": [
    "# Test that data can be queried\n",
    "for x in range(len(ls_name)):\n",
    "    pg_curs.execute(f\"SELECT * FROM {ls_name[x]}\")\n",
    "    for y in range(1):\n",
    "        print(f\"---First row from {ls_name[x]} Azure Postgres DB---\")\n",
    "        print(pg_curs.fetchone(), \"\\n\")"
   ]
  },
  {
   "cell_type": "code",
   "execution_count": 11,
   "metadata": {},
   "outputs": [],
   "source": [
    "curs.close()\n",
    "conn.close()\n",
    "pg_curs.close()\n",
    "pg_conn.close()"
   ]
  }
 ],
 "metadata": {
  "kernelspec": {
   "display_name": "Python 3",
   "language": "python",
   "name": "python3"
  },
  "language_info": {
   "codemirror_mode": {
    "name": "ipython",
    "version": 3
   },
   "file_extension": ".py",
   "mimetype": "text/x-python",
   "name": "python",
   "nbconvert_exporter": "python",
   "pygments_lexer": "ipython3",
   "version": "3.7.4"
  }
 },
 "nbformat": 4,
 "nbformat_minor": 4
}
