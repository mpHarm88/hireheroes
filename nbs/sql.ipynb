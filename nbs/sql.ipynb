{
 "cells": [
  {
   "cell_type": "code",
   "execution_count": 1,
   "metadata": {},
   "outputs": [],
   "source": [
    "import pandas as pd\n",
    "import numpy as np\n",
    "import sqlite3"
   ]
  },
  {
   "cell_type": "code",
   "execution_count": 2,
   "metadata": {},
   "outputs": [],
   "source": [
    "campaign = pd.read_csv(\"../data/Campaign.csv\", encoding=\"latin-1\")\n",
    "profile_creation = pd.read_csv(\"../data/EPO_Teradata_Employer_Profile_Creation_Report.csv\")\n",
    "job_seeker = pd.read_csv(\"../data/EPO_Teradata_Job Seeker_Profile_Creation_Report.csv\")\n",
    "job_board = pd.read_csv(\"../data/EPO_Teradata_Job_Board_Sales_Report.csv\")\n",
    "feedback = pd.read_csv(\"../data/Feedback__c.csv\", encoding=\"latin-1\", low_memory=False)\n",
    "account = pd.read_csv(\"../data/SalesForce_Account.csv\", encoding=\"latin-1\", low_memory=False)\n",
    "case = pd.read_csv(\"../data/SalesForce_Case.csv\", encoding=\"latin-1\", low_memory=False)\n",
    "info_c = pd.read_csv(\"../data/SalesForce_Hire_Information__c.csv\", encoding=\"latin-1\")\n",
    "opp = pd.read_csv(\"../data/SalesForce_Opportunity.csv\", low_memory=False)\n",
    "record = pd.read_csv(\"../data/SalesForce_RecordType.csv\")\n",
    "\n",
    "#no columns to pull data from\n",
    "#sales_2018 = pd.read_csv(\"../data/SalesForce_2018Activities.csv\")\n",
    "#sales_force = pd.read_csv(\"../data/SalesForce_Contact.csv\")\n",
    "#email = pd.read_csv(\"../data/vr__VR_Email_History_Contact__c.csv\")\n"
   ]
  },
  {
   "cell_type": "code",
   "execution_count": 3,
   "metadata": {},
   "outputs": [
    {
     "name": "stdout",
     "output_type": "stream",
     "text": [
      "---Dataframes Shapes---\n",
      "campaign Shape: (1386, 103)\n",
      "profile_creation Shape: (778, 5)\n",
      "job_seeker Shape: (4342, 5)\n",
      "job_board Shape: (521, 8)\n",
      "feedback Shape: (15807, 70)\n",
      "account Shape: (16858, 168)\n",
      "case Shape: (14845, 56)\n",
      "info_c Shape: (30754, 34)\n",
      "opp Shape: (10849, 130)\n",
      "record Shape: (80, 13)\n"
     ]
    }
   ],
   "source": [
    "ls = [campaign, profile_creation, job_seeker, job_board, feedback, account, case, \n",
    "      info_c, opp, record]\n",
    "ls_name = [\"campaign\", \"profile_creation\", \"job_seeker\", \"job_board\", \"feedback\", \"account\", \"case\", \n",
    "      \"info_c\", \"opp\", \"record\"]\n",
    "\n",
    "df_dict = dict(zip(ls_name, ls))\n",
    "print(\"---Dataframes Shapes---\")\n",
    "for x in range(len(df_dict)):\n",
    "    print(f\"{list(df_dict.keys())[x]} Shape: {list(df_dict.values())[x].shape}\")   "
   ]
  },
  {
   "cell_type": "code",
   "execution_count": 47,
   "metadata": {},
   "outputs": [],
   "source": [
    "def df_sql(df_ls,name, conn):\n",
    "    \n",
    "    \"\"\"\n",
    "    Load all data into a sqlite3 DB\n",
    "    \"\"\"\n",
    "    \n",
    "    conn = sqlite3.Connection(\"../data/heroes.sqlite3\")\n",
    "    \n",
    "    for x in range(len(df_ls)):\n",
    "        df_ls[x].to_sql(f\"{name[x]}\", conn, index=False)\n",
    "    \n",
    "    conn.close()\n",
    "        \n",
    "    return   "
   ]
  },
  {
   "cell_type": "code",
   "execution_count": 48,
   "metadata": {},
   "outputs": [],
   "source": [
    "# Load the DB\n",
    "df_sql(ls, ls_name, conn)"
   ]
  },
  {
   "cell_type": "code",
   "execution_count": 21,
   "metadata": {},
   "outputs": [],
   "source": [
    "# Extract CREATE TABLE statements\n",
    "\n",
    "conn = sqlite3.Connection(\"../data/heroes.sqlite3\")\n",
    "curs = conn.cursor()\n",
    "\n",
    "query = curs.execute(\"SELECT * FROM sqlite_master WHERE type='table'\").fetchall()\n",
    "table_ls = []\n",
    "\n",
    "for x in range(len(query)):\n",
    "    table_ls.append(query[x][4].replace(\"\\n\", \"\") + \";\")"
   ]
  },
  {
   "cell_type": "code",
   "execution_count": null,
   "metadata": {},
   "outputs": [],
   "source": []
  }
 ],
 "metadata": {
  "kernelspec": {
   "display_name": "Python 3.7.6 64-bit ('paula_choice': conda)",
   "language": "python",
   "name": "python37664bitpaulachoicecondad7c97e2c2a6b4c2e9895618dd5459664"
  },
  "language_info": {
   "codemirror_mode": {
    "name": "ipython",
    "version": 3
   },
   "file_extension": ".py",
   "mimetype": "text/x-python",
   "name": "python",
   "nbconvert_exporter": "python",
   "pygments_lexer": "ipython3",
   "version": "3.7.6"
  }
 },
 "nbformat": 4,
 "nbformat_minor": 4
}
