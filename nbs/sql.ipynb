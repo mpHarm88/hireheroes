{
 "cells": [
  {
   "cell_type": "code",
   "execution_count": 1,
   "metadata": {},
   "outputs": [],
   "source": [
    "import pandas as pd\n",
    "import numpy as np\n",
    "import sqlite3\n",
    "from dotenv import load_dotenv\n",
    "import os\n",
    "import psycopg2\n",
    "from psycopg2 import extras\n",
    "load_dotenv();"
   ]
  },
  {
   "cell_type": "markdown",
   "metadata": {},
   "source": [
    "### Load Data"
   ]
  },
  {
   "cell_type": "code",
   "execution_count": 10,
   "metadata": {},
   "outputs": [
    {
     "name": "stdout",
     "output_type": "stream",
     "text": [
      "---Dataframes Shapes---\n",
      "campaign Shape: (1386, 103)\n",
      "profile_creation Shape: (778, 5)\n",
      "job_seeker Shape: (4342, 5)\n",
      "job_board Shape: (521, 8)\n",
      "feedback Shape: (15807, 70)\n",
      "account Shape: (16858, 168)\n",
      "sf_case Shape: (14845, 56)\n",
      "info_c Shape: (30754, 34)\n",
      "opp Shape: (10849, 130)\n",
      "record Shape: (80, 13)\n"
     ]
    }
   ],
   "source": [
    "campaign = pd.read_csv(\"../data/Campaign.csv\", encoding=\"latin-1\")\n",
    "profile_creation = pd.read_csv(\"../data/EPO_Teradata_Employer_Profile_Creation_Report.csv\")\n",
    "job_seeker = pd.read_csv(\"../data/EPO_Teradata_Job Seeker_Profile_Creation_Report.csv\")\n",
    "job_board = pd.read_csv(\"../data/EPO_Teradata_Job_Board_Sales_Report.csv\")\n",
    "feedback = pd.read_csv(\"../data/Feedback__c.csv\", encoding=\"latin-1\", low_memory=False)\n",
    "account = pd.read_csv(\"../data/SalesForce_Account.csv\", encoding=\"latin-1\", low_memory=False)\n",
    "sf_case = pd.read_csv(\"../data/SalesForce_Case.csv\", encoding=\"latin-1\", low_memory=False)\n",
    "info_c = pd.read_csv(\"../data/SalesForce_Hire_Information__c.csv\", encoding=\"latin-1\")\n",
    "opp = pd.read_csv(\"../data/SalesForce_Opportunity.csv\", low_memory=False)\n",
    "record = pd.read_csv(\"../data/SalesForce_RecordType.csv\")\n",
    "\n",
    "#no columns to pull data from\n",
    "#sales_2018 = pd.read_csv(\"../data/SalesForce_2018Activities.csv\")\n",
    "#sales_force = pd.read_csv(\"../data/SalesForce_Contact.csv\")\n",
    "#email = pd.read_csv(\"../data/vr__VR_Email_History_Contact__c.csv\")\n",
    "\n",
    "ls = [campaign, profile_creation, job_seeker, job_board, feedback, account, sf_case, \n",
    "      info_c, opp, record]\n",
    "ls_name = [\"campaign\", \"profile_creation\", \"job_seeker\", \"job_board\", \"feedback\", \"account\", \"sf_case\", \n",
    "      \"info_c\", \"opp\", \"record\"]\n",
    "\n",
    "# Lower and replace spaces with \"_\" in column names\n",
    "for x in ls:\n",
    "    x.columns = map(str.lower, x.columns.str.replace(\" \", \"_\").str.replace(\"?\", \"\"))\n",
    "\n",
    "df_dict = dict(zip(ls_name, ls))\n",
    "print(\"---Dataframes Shapes---\")\n",
    "for x in range(len(df_dict)):\n",
    "    print(f\"{list(df_dict.keys())[x]} Shape: {list(df_dict.values())[x].shape}\")  "
   ]
  },
  {
   "cell_type": "code",
   "execution_count": 3,
   "metadata": {},
   "outputs": [],
   "source": [
    "def df_sql(df_ls,name, conn):\n",
    "    \"\"\"\n",
    "    Load all data into a sqlite3 DB\n",
    "    \"\"\"\n",
    "    \n",
    "    conn = conn\n",
    "    \n",
    "    for x in range(len(df_ls)):\n",
    "        df_ls[x].to_sql(f\"{name[x]}\", conn, index=False)\n",
    "        \n",
    "    return   \n",
    "\n",
    "def create_table(conn):\n",
    "    \"\"\"\n",
    "    Returns a list a create table statements as strings\n",
    "    \"\"\"\n",
    "    \n",
    "    curs = conn.cursor()\n",
    "\n",
    "    query = curs.execute(\"SELECT * FROM sqlite_master WHERE type='table'\").fetchall()\n",
    "    table_ls = []\n",
    "\n",
    "    for x in range(len(query)):\n",
    "        table_ls.append(query[x][4].replace(\"\\n\", \"\") + \";\")\n",
    "    \n",
    "    return table_ls\n",
    "\n",
    "def insert_pg(conn, name):\n",
    "    \"\"\"\n",
    "    Append insert statements to a list\n",
    "    \"\"\"\n",
    "    \n",
    "    curs = conn.cursor()\n",
    "    insert_ls = []\n",
    "    \n",
    "    for x in range(len(name)):\n",
    "        curs.execute(f\"SELECT column_name FROM INFORMATION_SCHEMA.COLUMNS WHERE TABLE_NAME='{name[x]}';\")\n",
    "        insert_str = f\"INSERT INTO {name[x]} (\"\n",
    "        for y in curs:\n",
    "            col_ls = []\n",
    "            col_ls.append(y[0])\n",
    "            for z in range(len(col_ls)):\n",
    "                insert_str += col_ls[z] + \",\" + \" \"\n",
    "        insert_str = insert_str[:-2] # remove the \",\" and \" \" from the last line\n",
    "        insert_str += \") VALUES %s\"\n",
    "        insert_ls.append(insert_str)\n",
    "        \n",
    "    return insert_ls"
   ]
  },
  {
   "cell_type": "markdown",
   "metadata": {},
   "source": [
    "### SQLite3"
   ]
  },
  {
   "cell_type": "code",
   "execution_count": 5,
   "metadata": {},
   "outputs": [],
   "source": [
    "# Make connection\n",
    "conn = sqlite3.Connection(\"../data/heroes.sqlite3\")\n",
    "\n",
    "# Load the DB\n",
    "df_sql(ls, ls_name, conn)\n",
    "\n",
    "# Extract CREATE TABLE statements and append to list\n",
    "table_ls = create_table(conn)"
   ]
  },
  {
   "cell_type": "markdown",
   "metadata": {},
   "source": [
    "### Psycopg2 and Azure"
   ]
  },
  {
   "cell_type": "code",
   "execution_count": 6,
   "metadata": {},
   "outputs": [
    {
     "name": "stdout",
     "output_type": "stream",
     "text": [
      "campaign data inserted\n",
      "profile_creation data inserted\n",
      "job_seeker data inserted\n",
      "job_board data inserted\n",
      "feedback data inserted\n",
      "account data inserted\n",
      "sf_case data inserted\n",
      "info_c data inserted\n",
      "opp data inserted\n",
      "record data inserted\n"
     ]
    }
   ],
   "source": [
    "# Load credentials from .env\n",
    "name = os.getenv(\"AZURE_DB_NAME\")\n",
    "pw = os.getenv(\"AZURE_PASS\")\n",
    "host = os.getenv(\"AZURE_HOST\")\n",
    "user = os.getenv(\"AZURE_USER\")\n",
    "ssl = os.getenv(\"AZURE_SSLMODE\")\n",
    "\n",
    "# Connect\n",
    "conn_string = f\"host={host} user={user} dbname={name} password={pw} sslmode={ssl}\"\n",
    "pg_conn = psycopg2.connect(conn_string)\n",
    "pg_curs = pg_conn.cursor()\n",
    "\n",
    "# Drop and Create tables\n",
    "for x in ls_name:\n",
    "    pg_curs.execute(f\"DROP TABLE IF EXISTS {x};\")\n",
    "    pg_conn.commit()\n",
    "\n",
    "for x in range(len(table_ls)):\n",
    "    pg_curs.execute(table_ls[x])\n",
    "    pg_conn.commit()\n",
    "\n",
    "# Gather insert statements to a list\n",
    "insert_ls = insert_pg(pg_conn, ls_name)\n",
    "\n",
    "# Insert the Data\n",
    "for x in range(len(ls_name)):\n",
    "    curs = conn.cursor()\n",
    "    data = curs.execute(f\"SELECT * FROM {ls_name[x]}\").fetchall()\n",
    "    query = insert_ls[x]\n",
    "    extras.execute_values(pg_curs, query, data)\n",
    "    pg_conn.commit\n",
    "    print(f\"{ls_name[x]} data inserted\")\n",
    "    \n",
    "curs.close()\n",
    "conn.close()\n",
    "pg_curs.close()\n",
    "pg_conn.close()"
   ]
  }
 ],
 "metadata": {
  "kernelspec": {
   "display_name": "Python 3",
   "language": "python",
   "name": "python3"
  },
  "language_info": {
   "codemirror_mode": {
    "name": "ipython",
    "version": 3
   },
   "file_extension": ".py",
   "mimetype": "text/x-python",
   "name": "python",
   "nbconvert_exporter": "python",
   "pygments_lexer": "ipython3",
   "version": "3.7.4"
  }
 },
 "nbformat": 4,
 "nbformat_minor": 4
}
