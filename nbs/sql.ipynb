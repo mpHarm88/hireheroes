{
 "cells": [
  {
   "cell_type": "code",
   "execution_count": 24,
   "metadata": {},
   "outputs": [],
   "source": [
    "import pandas as pd\n",
    "import numpy as np\n",
    "import sqlite3"
   ]
  },
  {
   "cell_type": "code",
   "execution_count": 34,
   "metadata": {},
   "outputs": [],
   "source": [
    "conn = sqlite3.Connection(\"../data/heroes.sqlite3\")\n",
    "curs = conn.cursor()"
   ]
  },
  {
   "cell_type": "code",
   "execution_count": 2,
   "metadata": {},
   "outputs": [],
   "source": [
    "campaign = pd.read_csv(\"../data/Campaign.csv\", encoding=\"latin-1\")\n",
    "profile_creation = pd.read_csv(\"../data/EPO_Teradata_Employer_Profile_Creation_Report.csv\")\n",
    "job_seeker = pd.read_csv(\"../data/EPO_Teradata_Job Seeker_Profile_Creation_Report.csv\")\n",
    "job_board = pd.read_csv(\"../data/EPO_Teradata_Job_Board_Sales_Report.csv\")\n",
    "feedback = pd.read_csv(\"../data/Feedback__c.csv\", encoding=\"latin-1\", low_memory=False)\n",
    "account = pd.read_csv(\"../data/SalesForce_Account.csv\", encoding=\"latin-1\", low_memory=False)\n",
    "case = pd.read_csv(\"../data/SalesForce_Case.csv\", encoding=\"latin-1\", low_memory=False)\n",
    "info_c = pd.read_csv(\"../data/SalesForce_Hire_Information__c.csv\", encoding=\"latin-1\")\n",
    "opp = pd.read_csv(\"../data/SalesForce_Opportunity.csv\", low_memory=False)\n",
    "record = pd.read_csv(\"../data/SalesForce_RecordType.csv\")\n",
    "\n",
    "#no columns to pull data from\n",
    "#sales_2018 = pd.read_csv(\"../data/SalesForce_2018Activities.csv\")\n",
    "#sales_force = pd.read_csv(\"../data/SalesForce_Contact.csv\")\n",
    "#email = pd.read_csv(\"../data/vr__VR_Email_History_Contact__c.csv\")\n"
   ]
  },
  {
   "cell_type": "code",
   "execution_count": 3,
   "metadata": {},
   "outputs": [
    {
     "name": "stdout",
     "output_type": "stream",
     "text": [
      "---Dataframes Shapes---\n",
      "campaign Shape: (1386, 103)\n",
      "profile_creation Shape: (778, 5)\n",
      "job_seeker Shape: (4342, 5)\n",
      "job_board Shape: (521, 8)\n",
      "feedback Shape: (15807, 70)\n",
      "account Shape: (16858, 168)\n",
      "case Shape: (14845, 56)\n",
      "info_c Shape: (30754, 34)\n",
      "opp Shape: (10849, 130)\n",
      "record Shape: (80, 13)\n"
     ]
    }
   ],
   "source": [
    "ls = [campaign, profile_creation, job_seeker, job_board, feedback, account, case, \n",
    "      info_c, opp, record]\n",
    "ls_name = [\"campaign\", \"profile_creation\", \"job_seeker\", \"job_board\", \"feedback\", \"account\", \"case\", \n",
    "      \"info_c\", \"opp\", \"record\"]\n",
    "\n",
    "df_dict = dict(zip(ls_name, ls))\n",
    "print(\"---Dataframes Shapes---\")\n",
    "for x in range(len(df_dict)):\n",
    "    print(f\"{list(df_dict.keys())[x]} Shape: {list(df_dict.values())[x].shape}\")   "
   ]
  },
  {
   "cell_type": "code",
   "execution_count": 47,
   "metadata": {},
   "outputs": [],
   "source": [
    "def df_sql(df_ls,name, conn):\n",
    "    \n",
    "    \"\"\"\n",
    "    Load all data into a sqlite3 DB\n",
    "    \"\"\"\n",
    "    \n",
    "    conn = sqlite3.Connection(\"../data/heroes.sqlite3\")\n",
    "    \n",
    "    for x in range(len(df_ls)):\n",
    "        df_ls[x].to_sql(f\"{name[x]}\", conn, index=False)\n",
    "    \n",
    "    conn.close()\n",
    "        \n",
    "    return   "
   ]
  },
  {
   "cell_type": "code",
   "execution_count": 48,
   "metadata": {},
   "outputs": [],
   "source": [
    "# Load the DB\n",
    "df_sql(ls, ls_name, conn)"
   ]
  },
  {
   "cell_type": "code",
   "execution_count": 21,
   "metadata": {},
   "outputs": [
    {
     "name": "stdout",
     "output_type": "stream",
     "text": [
      "<class 'pandas.core.frame.DataFrame'>\n",
      "RangeIndex: 1386 entries, 0 to 1385\n",
      "Columns: 103 entries, Id to stayclassy__Fixed_FOT_Percent__c\n",
      "dtypes: float64(36), int64(26), object(41)\n",
      "memory usage: 1.1+ MB\n"
     ]
    },
    {
     "data": {
      "text/html": [
       "<div>\n",
       "<style scoped>\n",
       "    .dataframe tbody tr th:only-of-type {\n",
       "        vertical-align: middle;\n",
       "    }\n",
       "\n",
       "    .dataframe tbody tr th {\n",
       "        vertical-align: top;\n",
       "    }\n",
       "\n",
       "    .dataframe thead th {\n",
       "        text-align: right;\n",
       "    }\n",
       "</style>\n",
       "<table border=\"1\" class=\"dataframe\">\n",
       "  <thead>\n",
       "    <tr style=\"text-align: right;\">\n",
       "      <th></th>\n",
       "      <th>index</th>\n",
       "      <th>0</th>\n",
       "    </tr>\n",
       "  </thead>\n",
       "  <tbody>\n",
       "    <tr>\n",
       "      <th>0</th>\n",
       "      <td>Id</td>\n",
       "      <td>object</td>\n",
       "    </tr>\n",
       "    <tr>\n",
       "      <th>1</th>\n",
       "      <td>IsDeleted</td>\n",
       "      <td>int64</td>\n",
       "    </tr>\n",
       "    <tr>\n",
       "      <th>2</th>\n",
       "      <td>Name</td>\n",
       "      <td>object</td>\n",
       "    </tr>\n",
       "    <tr>\n",
       "      <th>3</th>\n",
       "      <td>ParentId</td>\n",
       "      <td>object</td>\n",
       "    </tr>\n",
       "    <tr>\n",
       "      <th>4</th>\n",
       "      <td>Type</td>\n",
       "      <td>object</td>\n",
       "    </tr>\n",
       "    <tr>\n",
       "      <th>...</th>\n",
       "      <td>...</td>\n",
       "      <td>...</td>\n",
       "    </tr>\n",
       "    <tr>\n",
       "      <th>98</th>\n",
       "      <td>Account_Name__c</td>\n",
       "      <td>object</td>\n",
       "    </tr>\n",
       "    <tr>\n",
       "      <th>99</th>\n",
       "      <td>stayclassy__Classy_Mode_Checked_By_Default__c</td>\n",
       "      <td>float64</td>\n",
       "    </tr>\n",
       "    <tr>\n",
       "      <th>100</th>\n",
       "      <td>stayclassy__Classy_Mode_Enabled__c</td>\n",
       "      <td>float64</td>\n",
       "    </tr>\n",
       "    <tr>\n",
       "      <th>101</th>\n",
       "      <td>stayclassy__Effective_Fixed_FOT_Percent__c</td>\n",
       "      <td>float64</td>\n",
       "    </tr>\n",
       "    <tr>\n",
       "      <th>102</th>\n",
       "      <td>stayclassy__Fixed_FOT_Percent__c</td>\n",
       "      <td>float64</td>\n",
       "    </tr>\n",
       "  </tbody>\n",
       "</table>\n",
       "<p>103 rows × 2 columns</p>\n",
       "</div>"
      ],
      "text/plain": [
       "                                             index        0\n",
       "0                                               Id   object\n",
       "1                                        IsDeleted    int64\n",
       "2                                             Name   object\n",
       "3                                         ParentId   object\n",
       "4                                             Type   object\n",
       "..                                             ...      ...\n",
       "98                                 Account_Name__c   object\n",
       "99   stayclassy__Classy_Mode_Checked_By_Default__c  float64\n",
       "100             stayclassy__Classy_Mode_Enabled__c  float64\n",
       "101     stayclassy__Effective_Fixed_FOT_Percent__c  float64\n",
       "102               stayclassy__Fixed_FOT_Percent__c  float64\n",
       "\n",
       "[103 rows x 2 columns]"
      ]
     },
     "execution_count": 21,
     "metadata": {},
     "output_type": "execute_result"
    }
   ],
   "source": [
    "campaign.info()\n",
    "campaign.dtypes.reset_index()"
   ]
  },
  {
   "cell_type": "code",
   "execution_count": 22,
   "metadata": {},
   "outputs": [
    {
     "data": {
      "text/plain": [
       "dtype('int64')"
      ]
     },
     "execution_count": 22,
     "metadata": {},
     "output_type": "execute_result"
    }
   ],
   "source": []
  },
  {
   "cell_type": "code",
   "execution_count": 35,
   "metadata": {},
   "outputs": [],
   "source": [
    "# Turn datatypes into SQLAchemy approved data types for conversion\n",
    "test = campaign.dtypes.reset_index()[0].astype(str).map(\n",
    "    {\n",
    "        \"object\":\"String\",\n",
    "        \"int64\":\"Int\",\n",
    "        \"float64\":\"Float\"\n",
    "    })"
   ]
  },
  {
   "cell_type": "code",
   "execution_count": 36,
   "metadata": {},
   "outputs": [],
   "source": [
    "# Create dict schema\n",
    "schema = dict(zip(campaign.columns,test))"
   ]
  },
  {
   "cell_type": "code",
   "execution_count": 37,
   "metadata": {},
   "outputs": [],
   "source": [
    "campaign.to_sql(\"campaign\", conn, index=False, schema=schema)"
   ]
  },
  {
   "cell_type": "code",
   "execution_count": 33,
   "metadata": {},
   "outputs": [
    {
     "ename": "ValueError",
     "evalue": "invalid literal for int() with base 10: '7010z000000mBaVAAU'",
     "output_type": "error",
     "traceback": [
      "\u001b[0;31m---------------------------------------------------------------------------\u001b[0m",
      "\u001b[0;31mValueError\u001b[0m                                Traceback (most recent call last)",
      "\u001b[0;32m<ipython-input-33-d24bf3154f73>\u001b[0m in \u001b[0;36m<module>\u001b[0;34m\u001b[0m\n\u001b[0;32m----> 1\u001b[0;31m \u001b[0mcampaign\u001b[0m\u001b[0;34m[\u001b[0m\u001b[0;34m\"Id\"\u001b[0m\u001b[0;34m]\u001b[0m\u001b[0;34m.\u001b[0m\u001b[0mastype\u001b[0m\u001b[0;34m(\u001b[0m\u001b[0mint\u001b[0m\u001b[0;34m)\u001b[0m\u001b[0;34m\u001b[0m\u001b[0;34m\u001b[0m\u001b[0m\n\u001b[0m",
      "\u001b[0;32m~/.conda/envs/paula_choice/lib/python3.7/site-packages/pandas/core/generic.py\u001b[0m in \u001b[0;36mastype\u001b[0;34m(self, dtype, copy, errors)\u001b[0m\n\u001b[1;32m   5696\u001b[0m         \u001b[0;32melse\u001b[0m\u001b[0;34m:\u001b[0m\u001b[0;34m\u001b[0m\u001b[0;34m\u001b[0m\u001b[0m\n\u001b[1;32m   5697\u001b[0m             \u001b[0;31m# else, only a single dtype is given\u001b[0m\u001b[0;34m\u001b[0m\u001b[0;34m\u001b[0m\u001b[0;34m\u001b[0m\u001b[0m\n\u001b[0;32m-> 5698\u001b[0;31m             \u001b[0mnew_data\u001b[0m \u001b[0;34m=\u001b[0m \u001b[0mself\u001b[0m\u001b[0;34m.\u001b[0m\u001b[0m_data\u001b[0m\u001b[0;34m.\u001b[0m\u001b[0mastype\u001b[0m\u001b[0;34m(\u001b[0m\u001b[0mdtype\u001b[0m\u001b[0;34m=\u001b[0m\u001b[0mdtype\u001b[0m\u001b[0;34m,\u001b[0m \u001b[0mcopy\u001b[0m\u001b[0;34m=\u001b[0m\u001b[0mcopy\u001b[0m\u001b[0;34m,\u001b[0m \u001b[0merrors\u001b[0m\u001b[0;34m=\u001b[0m\u001b[0merrors\u001b[0m\u001b[0;34m)\u001b[0m\u001b[0;34m\u001b[0m\u001b[0;34m\u001b[0m\u001b[0m\n\u001b[0m\u001b[1;32m   5699\u001b[0m             \u001b[0;32mreturn\u001b[0m \u001b[0mself\u001b[0m\u001b[0;34m.\u001b[0m\u001b[0m_constructor\u001b[0m\u001b[0;34m(\u001b[0m\u001b[0mnew_data\u001b[0m\u001b[0;34m)\u001b[0m\u001b[0;34m.\u001b[0m\u001b[0m__finalize__\u001b[0m\u001b[0;34m(\u001b[0m\u001b[0mself\u001b[0m\u001b[0;34m)\u001b[0m\u001b[0;34m\u001b[0m\u001b[0;34m\u001b[0m\u001b[0m\n\u001b[1;32m   5700\u001b[0m \u001b[0;34m\u001b[0m\u001b[0m\n",
      "\u001b[0;32m~/.conda/envs/paula_choice/lib/python3.7/site-packages/pandas/core/internals/managers.py\u001b[0m in \u001b[0;36mastype\u001b[0;34m(self, dtype, copy, errors)\u001b[0m\n\u001b[1;32m    580\u001b[0m \u001b[0;34m\u001b[0m\u001b[0m\n\u001b[1;32m    581\u001b[0m     \u001b[0;32mdef\u001b[0m \u001b[0mastype\u001b[0m\u001b[0;34m(\u001b[0m\u001b[0mself\u001b[0m\u001b[0;34m,\u001b[0m \u001b[0mdtype\u001b[0m\u001b[0;34m,\u001b[0m \u001b[0mcopy\u001b[0m\u001b[0;34m:\u001b[0m \u001b[0mbool\u001b[0m \u001b[0;34m=\u001b[0m \u001b[0;32mFalse\u001b[0m\u001b[0;34m,\u001b[0m \u001b[0merrors\u001b[0m\u001b[0;34m:\u001b[0m \u001b[0mstr\u001b[0m \u001b[0;34m=\u001b[0m \u001b[0;34m\"raise\"\u001b[0m\u001b[0;34m)\u001b[0m\u001b[0;34m:\u001b[0m\u001b[0;34m\u001b[0m\u001b[0;34m\u001b[0m\u001b[0m\n\u001b[0;32m--> 582\u001b[0;31m         \u001b[0;32mreturn\u001b[0m \u001b[0mself\u001b[0m\u001b[0;34m.\u001b[0m\u001b[0mapply\u001b[0m\u001b[0;34m(\u001b[0m\u001b[0;34m\"astype\"\u001b[0m\u001b[0;34m,\u001b[0m \u001b[0mdtype\u001b[0m\u001b[0;34m=\u001b[0m\u001b[0mdtype\u001b[0m\u001b[0;34m,\u001b[0m \u001b[0mcopy\u001b[0m\u001b[0;34m=\u001b[0m\u001b[0mcopy\u001b[0m\u001b[0;34m,\u001b[0m \u001b[0merrors\u001b[0m\u001b[0;34m=\u001b[0m\u001b[0merrors\u001b[0m\u001b[0;34m)\u001b[0m\u001b[0;34m\u001b[0m\u001b[0;34m\u001b[0m\u001b[0m\n\u001b[0m\u001b[1;32m    583\u001b[0m \u001b[0;34m\u001b[0m\u001b[0m\n\u001b[1;32m    584\u001b[0m     \u001b[0;32mdef\u001b[0m \u001b[0mconvert\u001b[0m\u001b[0;34m(\u001b[0m\u001b[0mself\u001b[0m\u001b[0;34m,\u001b[0m \u001b[0;34m**\u001b[0m\u001b[0mkwargs\u001b[0m\u001b[0;34m)\u001b[0m\u001b[0;34m:\u001b[0m\u001b[0;34m\u001b[0m\u001b[0;34m\u001b[0m\u001b[0m\n",
      "\u001b[0;32m~/.conda/envs/paula_choice/lib/python3.7/site-packages/pandas/core/internals/managers.py\u001b[0m in \u001b[0;36mapply\u001b[0;34m(self, f, filter, **kwargs)\u001b[0m\n\u001b[1;32m    440\u001b[0m                 \u001b[0mapplied\u001b[0m \u001b[0;34m=\u001b[0m \u001b[0mb\u001b[0m\u001b[0;34m.\u001b[0m\u001b[0mapply\u001b[0m\u001b[0;34m(\u001b[0m\u001b[0mf\u001b[0m\u001b[0;34m,\u001b[0m \u001b[0;34m**\u001b[0m\u001b[0mkwargs\u001b[0m\u001b[0;34m)\u001b[0m\u001b[0;34m\u001b[0m\u001b[0;34m\u001b[0m\u001b[0m\n\u001b[1;32m    441\u001b[0m             \u001b[0;32melse\u001b[0m\u001b[0;34m:\u001b[0m\u001b[0;34m\u001b[0m\u001b[0;34m\u001b[0m\u001b[0m\n\u001b[0;32m--> 442\u001b[0;31m                 \u001b[0mapplied\u001b[0m \u001b[0;34m=\u001b[0m \u001b[0mgetattr\u001b[0m\u001b[0;34m(\u001b[0m\u001b[0mb\u001b[0m\u001b[0;34m,\u001b[0m \u001b[0mf\u001b[0m\u001b[0;34m)\u001b[0m\u001b[0;34m(\u001b[0m\u001b[0;34m**\u001b[0m\u001b[0mkwargs\u001b[0m\u001b[0;34m)\u001b[0m\u001b[0;34m\u001b[0m\u001b[0;34m\u001b[0m\u001b[0m\n\u001b[0m\u001b[1;32m    443\u001b[0m             \u001b[0mresult_blocks\u001b[0m \u001b[0;34m=\u001b[0m \u001b[0m_extend_blocks\u001b[0m\u001b[0;34m(\u001b[0m\u001b[0mapplied\u001b[0m\u001b[0;34m,\u001b[0m \u001b[0mresult_blocks\u001b[0m\u001b[0;34m)\u001b[0m\u001b[0;34m\u001b[0m\u001b[0;34m\u001b[0m\u001b[0m\n\u001b[1;32m    444\u001b[0m \u001b[0;34m\u001b[0m\u001b[0m\n",
      "\u001b[0;32m~/.conda/envs/paula_choice/lib/python3.7/site-packages/pandas/core/internals/blocks.py\u001b[0m in \u001b[0;36mastype\u001b[0;34m(self, dtype, copy, errors)\u001b[0m\n\u001b[1;32m    623\u001b[0m             \u001b[0mvals1d\u001b[0m \u001b[0;34m=\u001b[0m \u001b[0mvalues\u001b[0m\u001b[0;34m.\u001b[0m\u001b[0mravel\u001b[0m\u001b[0;34m(\u001b[0m\u001b[0;34m)\u001b[0m\u001b[0;34m\u001b[0m\u001b[0;34m\u001b[0m\u001b[0m\n\u001b[1;32m    624\u001b[0m             \u001b[0;32mtry\u001b[0m\u001b[0;34m:\u001b[0m\u001b[0;34m\u001b[0m\u001b[0;34m\u001b[0m\u001b[0m\n\u001b[0;32m--> 625\u001b[0;31m                 \u001b[0mvalues\u001b[0m \u001b[0;34m=\u001b[0m \u001b[0mastype_nansafe\u001b[0m\u001b[0;34m(\u001b[0m\u001b[0mvals1d\u001b[0m\u001b[0;34m,\u001b[0m \u001b[0mdtype\u001b[0m\u001b[0;34m,\u001b[0m \u001b[0mcopy\u001b[0m\u001b[0;34m=\u001b[0m\u001b[0;32mTrue\u001b[0m\u001b[0;34m)\u001b[0m\u001b[0;34m\u001b[0m\u001b[0;34m\u001b[0m\u001b[0m\n\u001b[0m\u001b[1;32m    626\u001b[0m             \u001b[0;32mexcept\u001b[0m \u001b[0;34m(\u001b[0m\u001b[0mValueError\u001b[0m\u001b[0;34m,\u001b[0m \u001b[0mTypeError\u001b[0m\u001b[0;34m)\u001b[0m\u001b[0;34m:\u001b[0m\u001b[0;34m\u001b[0m\u001b[0;34m\u001b[0m\u001b[0m\n\u001b[1;32m    627\u001b[0m                 \u001b[0;31m# e.g. astype_nansafe can fail on object-dtype of strings\u001b[0m\u001b[0;34m\u001b[0m\u001b[0;34m\u001b[0m\u001b[0;34m\u001b[0m\u001b[0m\n",
      "\u001b[0;32m~/.conda/envs/paula_choice/lib/python3.7/site-packages/pandas/core/dtypes/cast.py\u001b[0m in \u001b[0;36mastype_nansafe\u001b[0;34m(arr, dtype, copy, skipna)\u001b[0m\n\u001b[1;32m    872\u001b[0m         \u001b[0;31m# work around NumPy brokenness, #1987\u001b[0m\u001b[0;34m\u001b[0m\u001b[0;34m\u001b[0m\u001b[0;34m\u001b[0m\u001b[0m\n\u001b[1;32m    873\u001b[0m         \u001b[0;32mif\u001b[0m \u001b[0mnp\u001b[0m\u001b[0;34m.\u001b[0m\u001b[0missubdtype\u001b[0m\u001b[0;34m(\u001b[0m\u001b[0mdtype\u001b[0m\u001b[0;34m.\u001b[0m\u001b[0mtype\u001b[0m\u001b[0;34m,\u001b[0m \u001b[0mnp\u001b[0m\u001b[0;34m.\u001b[0m\u001b[0minteger\u001b[0m\u001b[0;34m)\u001b[0m\u001b[0;34m:\u001b[0m\u001b[0;34m\u001b[0m\u001b[0;34m\u001b[0m\u001b[0m\n\u001b[0;32m--> 874\u001b[0;31m             \u001b[0;32mreturn\u001b[0m \u001b[0mlib\u001b[0m\u001b[0;34m.\u001b[0m\u001b[0mastype_intsafe\u001b[0m\u001b[0;34m(\u001b[0m\u001b[0marr\u001b[0m\u001b[0;34m.\u001b[0m\u001b[0mravel\u001b[0m\u001b[0;34m(\u001b[0m\u001b[0;34m)\u001b[0m\u001b[0;34m,\u001b[0m \u001b[0mdtype\u001b[0m\u001b[0;34m)\u001b[0m\u001b[0;34m.\u001b[0m\u001b[0mreshape\u001b[0m\u001b[0;34m(\u001b[0m\u001b[0marr\u001b[0m\u001b[0;34m.\u001b[0m\u001b[0mshape\u001b[0m\u001b[0;34m)\u001b[0m\u001b[0;34m\u001b[0m\u001b[0;34m\u001b[0m\u001b[0m\n\u001b[0m\u001b[1;32m    875\u001b[0m \u001b[0;34m\u001b[0m\u001b[0m\n\u001b[1;32m    876\u001b[0m         \u001b[0;31m# if we have a datetime/timedelta array of objects\u001b[0m\u001b[0;34m\u001b[0m\u001b[0;34m\u001b[0m\u001b[0;34m\u001b[0m\u001b[0m\n",
      "\u001b[0;32mpandas/_libs/lib.pyx\u001b[0m in \u001b[0;36mpandas._libs.lib.astype_intsafe\u001b[0;34m()\u001b[0m\n",
      "\u001b[0;31mValueError\u001b[0m: invalid literal for int() with base 10: '7010z000000mBaVAAU'"
     ]
    }
   ],
   "source": []
  },
  {
   "cell_type": "code",
   "execution_count": 104,
   "metadata": {},
   "outputs": [
    {
     "name": "stdout",
     "output_type": "stream",
     "text": [
      "<class 'pandas.core.frame.DataFrame'>\n",
      "RangeIndex: 1386 entries, 0 to 1385\n",
      "Data columns (total 103 columns):\n",
      " #   Column                                         Dtype  \n",
      "---  ------                                         -----  \n",
      " 0   Id                                             object \n",
      " 1   IsDeleted                                      int64  \n",
      " 2   Name                                           object \n",
      " 3   ParentId                                       object \n",
      " 4   Type                                           object \n",
      " 5   RecordTypeId                                   object \n",
      " 6   Status                                         object \n",
      " 7   StartDate                                      object \n",
      " 8   EndDate                                        object \n",
      " 9   ExpectedRevenue                                float64\n",
      " 10  BudgetedCost                                   float64\n",
      " 11  ActualCost                                     float64\n",
      " 12  ExpectedResponse                               int64  \n",
      " 13  NumberSent                                     float64\n",
      " 14  IsActive                                       int64  \n",
      " 15  CampaignImageId                                object \n",
      " 16  NumberOfLeads                                  int64  \n",
      " 17  NumberOfConvertedLeads                         int64  \n",
      " 18  NumberOfContacts                               int64  \n",
      " 19  NumberOfResponses                              int64  \n",
      " 20  NumberOfOpportunities                          int64  \n",
      " 21  NumberOfWonOpportunities                       int64  \n",
      " 22  AmountAllOpportunities                         float64\n",
      " 23  AmountWonOpportunities                         float64\n",
      " 24  HierarchyNumberOfLeads                         int64  \n",
      " 25  HierarchyNumberOfConvertedLeads                int64  \n",
      " 26  HierarchyNumberOfContacts                      int64  \n",
      " 27  HierarchyNumberOfResponses                     int64  \n",
      " 28  HierarchyNumberOfOpportunities                 int64  \n",
      " 29  HierarchyNumberOfWonOpportunities              int64  \n",
      " 30  HierarchyAmountAllOpportunities                float64\n",
      " 31  HierarchyAmountWonOpportunities                float64\n",
      " 32  HierarchyNumberSent                            int64  \n",
      " 33  HierarchyExpectedRevenue                       float64\n",
      " 34  HierarchyBudgetedCost                          float64\n",
      " 35  HierarchyActualCost                            float64\n",
      " 36  OwnerId                                        object \n",
      " 37  CreatedDate                                    object \n",
      " 38  CreatedById                                    object \n",
      " 39  LastModifiedDate                               object \n",
      " 40  LastModifiedById                               object \n",
      " 41  SystemModstamp                                 object \n",
      " 42  LastActivityDate                               object \n",
      " 43  CampaignMemberRecordTypeId                     float64\n",
      " 44  GW_Volunteers__Number_of_Volunteers__c         int64  \n",
      " 45  GW_Volunteers__Volunteer_Completed_Hours__c    float64\n",
      " 46  GW_Volunteers__Volunteer_Jobs__c               int64  \n",
      " 47  GW_Volunteers__Volunteer_Shifts__c             int64  \n",
      " 48  GW_Volunteers__Volunteers_Still_Needed__c      int64  \n",
      " 49  GW_Volunteers__Volunteer_Website_Time_Zone__c  float64\n",
      " 50  Workshop_Staff_Members__c                      object \n",
      " 51  Workshop_Type__c                               object \n",
      " 52  Workshop_Sponsor__c                            object \n",
      " 53  Program_Location__c                            object \n",
      " 54  stayclassy__Classy_Campaign_Type__c            object \n",
      " 55  stayclassy__Commitment__c                      float64\n",
      " 56  stayclassy__Event_Image_URL__c                 float64\n",
      " 57  stayclassy__Fundraiser_Alias__c                object \n",
      " 58  stayclassy__address1__c                        object \n",
      " 59  stayclassy__address2__c                        float64\n",
      " 60  stayclassy__city__c                            object \n",
      " 61  stayclassy__country__c                         object \n",
      " 62  stayclassy__sc_event_id__c                     float64\n",
      " 63  stayclassy__sf_contact_id__c                   object \n",
      " 64  stayclassy__sf_designation_id__c               object \n",
      " 65  stayclassy__state__c                           object \n",
      " 66  stayclassy__venue_name__c                      object \n",
      " 67  stayclassy__zip__c                             float64\n",
      " 68  EventbriteSync__EventbriteId__c                float64\n",
      " 69  Event_Capacity__c                              float64\n",
      " 70  stayclassy__Classy_API_Request__c              object \n",
      " 71  stayclassy__Classy_Designation_Id__c           float64\n",
      " 72  stayclassy__Classy_External_ID__c              object \n",
      " 73  stayclassy__Classy_Fundraising_Team__c         object \n",
      " 74  stayclassy__Classy_Member_ID__c                float64\n",
      " 75  stayclassy__Classy_Organization_ID__c          float64\n",
      " 76  stayclassy__Classy_Parent_Campaign_ID__c       float64\n",
      " 77  stayclassy__Classy_Parent_Campaign__c          object \n",
      " 78  stayclassy__Classy_Team_ID__c                  float64\n",
      " 79  stayclassy__Currency_Code__c                   object \n",
      " 80  stayclassy__End_Date__c                        object \n",
      " 81  stayclassy__Normalized_Goal_Amount__c          float64\n",
      " 82  stayclassy__Start_Date__c                      object \n",
      " 83  stayclassy__Team_Role__c                       object \n",
      " 84  stayclassy__Team__c                            float64\n",
      " 85  stayclassy__Timezone_Identifier__c             object \n",
      " 86  stayclassy__Allocated_Fund__c                  int64  \n",
      " 87  stayclassy__Deferred_Transaction_Amount__c     int64  \n",
      " 88  stayclassy__Raw_Currency_Code__c               object \n",
      " 89  stayclassy__Raw_Goal_Amount__c                 float64\n",
      " 90  Date_Email_Sent__c                             object \n",
      " 91  Number_Quality_Survey_Ratings__c               int64  \n",
      " 92  Quality_Survey_Rating_Total__c                 int64  \n",
      " 93  Workshop_Length_In_Days__c                     float64\n",
      " 94  Number_of_Registrants__c                       float64\n",
      " 95  EO_Email_Campaign__c                           float64\n",
      " 96  Recommendation_Rating_Total__c                 int64  \n",
      " 97  Number_Recommendation_Ratings__c               int64  \n",
      " 98  Account_Name__c                                object \n",
      " 99  stayclassy__Classy_Mode_Checked_By_Default__c  float64\n",
      " 100 stayclassy__Classy_Mode_Enabled__c             float64\n",
      " 101 stayclassy__Effective_Fixed_FOT_Percent__c     float64\n",
      " 102 stayclassy__Fixed_FOT_Percent__c               float64\n",
      "dtypes: float64(36), int64(26), object(41)\n",
      "memory usage: 1.1+ MB\n"
     ]
    }
   ],
   "source": [
    "campaign.info(verbose=True)"
   ]
  },
  {
   "cell_type": "code",
   "execution_count": null,
   "metadata": {},
   "outputs": [],
   "source": []
  }
 ],
 "metadata": {
  "kernelspec": {
   "display_name": "Python 3.7.6 64-bit ('paula_choice': conda)",
   "language": "python",
   "name": "python37664bitpaulachoicecondad7c97e2c2a6b4c2e9895618dd5459664"
  },
  "language_info": {
   "codemirror_mode": {
    "name": "ipython",
    "version": 3
   },
   "file_extension": ".py",
   "mimetype": "text/x-python",
   "name": "python",
   "nbconvert_exporter": "python",
   "pygments_lexer": "ipython3",
   "version": "3.7.6"
  }
 },
 "nbformat": 4,
 "nbformat_minor": 4
}
